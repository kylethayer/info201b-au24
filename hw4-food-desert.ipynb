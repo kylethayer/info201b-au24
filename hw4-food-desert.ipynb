{
 "cells": [
  {
   "cell_type": "markdown",
   "id": "a7f6c178-59b3-4db9-acb9-cd8e5fb6da57",
   "metadata": {},
   "source": [
    "# HW4: Food Desert (part 1)\n",
    "## Purpose\n",
    "In this assignment, you will be analyzing two datasets about food access in the US.  The work you do in this assignment will help tell different stories at different levels of granularity about food desserts within the US. "
   ]
  },
  {
   "cell_type": "markdown",
   "id": "b96cd8e9-6825-44de-a245-3f2f4f24e892",
   "metadata": {},
   "source": [
    "## Background\n",
    "In this assignment you will be looking to understand characteristics of food deserts in the United States while also comparing regions classified as food desert with their non-food desert counterparts. For this assignment, we are going to use the US Department of Agriculture's definition of a food desert which is that a county is considered a food desert if 33% or more of the population in that county is located more than 1 mile (in urban counties) or 10 miles (in rural counties) from the nearest supermarket or large grocery store.\n",
    "\n",
    "The canvas assignment has more details about the data sets"
   ]
  },
  {
   "cell_type": "markdown",
   "id": "e63e70ea-5f07-4962-a5e1-c244cdb0fbcc",
   "metadata": {},
   "source": [
    "## Load libraries\n",
    "You don't need to modify this"
   ]
  },
  {
   "cell_type": "code",
   "execution_count": null,
   "id": "0929c2b6-52a2-4b5b-983e-9938653969ff",
   "metadata": {
    "scrolled": true
   },
   "outputs": [],
   "source": [
    "library(dplyr)\n",
    "library(stringr)"
   ]
  },
  {
   "cell_type": "markdown",
   "id": "dddf73db-a3ee-4dd8-95cc-7553174eb297",
   "metadata": {},
   "source": [
    "## Instructions\n",
    "\n",
    "Before you begin, make sure you read the assignment description on canvas first!\n",
    "\n",
    "For each question/prompt, write the necessary code to calculate the answer.\n",
    "\n",
    "You are encouraged to create extra variables to help you solve these problems\n",
    "\n",
    "When we ask you to output information, make sure it shows up when your Jupyter Notebook is run\n"
   ]
  },
  {
   "cell_type": "markdown",
   "id": "c898057b-de4f-4076-b7ab-82ee9042733c",
   "metadata": {},
   "source": [
    "## Get data files\n",
    "Download the files `food_access.csv`, and `CountyCodes.csv` and upload them to JupyterHub in the same directory as this file \n",
    "\n",
    "In this homework assignment, you will be working with two related datasets.\n",
    "\n",
    "`food_df` has information on how far people have to travel to access a grocery store (where you can buy healthier food than at a fast food restaurant or gas station)\n",
    "`county_df` has information about individual counties."
   ]
  },
  {
   "cell_type": "code",
   "execution_count": null,
   "id": "d7a8c5eb-6bd6-4084-bb4c-cad19421098f",
   "metadata": {},
   "outputs": [],
   "source": [
    "food_df <- read.csv(\"food_access.csv\")\n",
    "county_df <- read.csv(\"CountyCodes.csv\")"
   ]
  },
  {
   "cell_type": "markdown",
   "id": "b803e9b8-eb96-470b-8a4b-4d84175579a4",
   "metadata": {},
   "source": [
    "## Investigating King County(s)\n",
    "\n",
    "We will start by looking at \"King County\" in our two datasets."
   ]
  },
  {
   "cell_type": "markdown",
   "id": "037e374a-a641-49c6-a4d5-54d30587daba",
   "metadata": {},
   "source": [
    "Count how many `King County`s there are in food_df and display the results"
   ]
  },
  {
   "cell_type": "code",
   "execution_count": null,
   "id": "e9a6953b-f3f2-4ea8-9699-c37bec8444ca",
   "metadata": {},
   "outputs": [],
   "source": []
  },
  {
   "cell_type": "markdown",
   "id": "99a528b2-2c02-403a-b9fa-c54346217fa3",
   "metadata": {},
   "source": [
    "### King County, Washington\n",
    "\n",
    "Save the single row of data for King County, Washington (where Seattle is) in a dataframe called `king_county_wa_df` (no output needed)"
   ]
  },
  {
   "cell_type": "code",
   "execution_count": null,
   "id": "ce4294a4-8aa4-4330-b7c4-9270d6af6c6a",
   "metadata": {},
   "outputs": [],
   "source": []
  },
  {
   "cell_type": "markdown",
   "id": "a67940fb-fb55-4c8e-b65a-715ff0223365",
   "metadata": {},
   "source": [
    "How many people live in King County, Washington? Save in a variable called `king_county_wa_pop` and display the result"
   ]
  },
  {
   "cell_type": "code",
   "execution_count": null,
   "id": "6d44d16c-3383-4eff-8ece-4481b79ee5ba",
   "metadata": {},
   "outputs": [],
   "source": []
  },
  {
   "cell_type": "markdown",
   "id": "32b7f50d-2f02-4948-adda-4b2f80d3a293",
   "metadata": {},
   "source": [
    "What is the number of people in King County, Washington who live at least 1 mile from the nearest grocery store. Save this value as `king_county_wa_1mi_num` and display the result"
   ]
  },
  {
   "cell_type": "code",
   "execution_count": null,
   "id": "d112583a-3f2c-40ef-94fa-750a683a1b5c",
   "metadata": {},
   "outputs": [],
   "source": []
  },
  {
   "cell_type": "markdown",
   "id": "ac87baa1-1413-4924-a03b-cccbb6a4a0cc",
   "metadata": {},
   "source": [
    "What is the percent of people in King County, Washington live at least 1 mile from the nearest grocery store? Save this value as `king_county_wa_1mi_per`\n",
    "\n",
    "Display the rounded number"
   ]
  },
  {
   "cell_type": "code",
   "execution_count": null,
   "id": "a3355202-e2c7-4ffd-bd92-3ad775cc90f1",
   "metadata": {},
   "outputs": [],
   "source": []
  },
  {
   "cell_type": "markdown",
   "id": "68a3cc0f-348f-4683-baaa-4ae44a726b17",
   "metadata": {},
   "source": [
    "Similarly, what percent of people in King County, Washington live at least 10 miles from the nearest grocery store? Save this value as `king_county_wa_10mi_per`\n",
    "\n",
    "Display the rounded number"
   ]
  },
  {
   "cell_type": "code",
   "execution_count": null,
   "id": "127747e6-6aec-4332-bdaa-cee24dbcaca6",
   "metadata": {},
   "outputs": [],
   "source": []
  },
  {
   "cell_type": "markdown",
   "id": "74720868-d752-4878-a619-cac199bb1735",
   "metadata": {},
   "source": [
    "The US Department of Agriculture's definition of a food desert which is that a county is considered a \"food desert\" if 33% or more of the population in that county is located more than 1 mile (in urban counties) or 10 miles (in rural counties) from the nearest supermarket or large grocery store.\n",
    "\n",
    "To see if King County is a food desert, we need to know if it is urban or rural"
   ]
  },
  {
   "cell_type": "markdown",
   "id": "5fa4227e-5196-40cc-91e2-0389e0a34877",
   "metadata": {},
   "source": [
    "Using the county_df dataframe, write code to determine if King County, Washington is urban or rural. Display a TRUE/FALSE value for if King County, Washington is urban."
   ]
  },
  {
   "cell_type": "code",
   "execution_count": null,
   "id": "28556a6c-477f-4d9d-a153-6743f75e9007",
   "metadata": {},
   "outputs": [],
   "source": []
  },
  {
   "cell_type": "markdown",
   "id": "a23f751a-65c9-414d-bffa-f125847af96f",
   "metadata": {},
   "source": [
    "Now that you know whether King County is urban or rural, write a simple conditional test that uses the correct rule mentioned above to see if king county is a food dessert. Display the resulting TRUE/FALSE value"
   ]
  },
  {
   "cell_type": "code",
   "execution_count": null,
   "id": "13c6871a-92c2-48bd-a58c-3ce06eb23a7c",
   "metadata": {},
   "outputs": [],
   "source": []
  },
  {
   "cell_type": "markdown",
   "id": "5e8c434e-2ef7-4f3e-bd79-fc35bf0e0683",
   "metadata": {},
   "source": [
    "### King County, Texas\n",
    "Now we will investigate King County, Texas"
   ]
  },
  {
   "cell_type": "markdown",
   "id": "bef22359-7f1b-4356-b2e8-e4d0ca5ff2d2",
   "metadata": {},
   "source": [
    "How many people live in King County, Texas?\n",
    "Save in a variable called `king_county_tx_pop` and display the value"
   ]
  },
  {
   "cell_type": "code",
   "execution_count": null,
   "id": "976651b0-cb23-4c39-8349-c243e976da1a",
   "metadata": {},
   "outputs": [],
   "source": []
  },
  {
   "cell_type": "markdown",
   "id": "7e840e3f-e2f8-4ddd-9082-5de61ada1515",
   "metadata": {},
   "source": [
    "Using the county_df dataframe, write code to determine if King County, Texas is urban or rural. Display a TRUE/FALSE value for if King County, Texas is urban."
   ]
  },
  {
   "cell_type": "code",
   "execution_count": null,
   "id": "63897d12-31f0-4be8-85bc-540c2a9c3cd0",
   "metadata": {},
   "outputs": [],
   "source": []
  },
  {
   "cell_type": "markdown",
   "id": "8213c513-f9b1-4b35-b5d6-b441eb52c6b2",
   "metadata": {},
   "source": [
    "What percent of people in King County, Texas live at least\n",
    "1 or 10 miles (use what you learned to choose the relevant value for food desert calculation depending on the urban/rural result)\n",
    "from the nearest grocery store? Save this value as `king_county_tx_dist_per`\n",
    "\n",
    "Display the rounded value"
   ]
  },
  {
   "cell_type": "code",
   "execution_count": null,
   "id": "ce60359a-bcd8-48a2-b44d-3894dce935ea",
   "metadata": {},
   "outputs": [],
   "source": []
  },
  {
   "cell_type": "markdown",
   "id": "027920a7-46f1-4ea3-8b5b-2edd5ee2933c",
   "metadata": {},
   "source": [
    "Now write a simple conditional to see if King County, Texas is a food desert. Display the TRUE/FALSE value "
   ]
  },
  {
   "cell_type": "code",
   "execution_count": null,
   "id": "dd742705-93fe-46ee-b3d6-887fa8892ec9",
   "metadata": {},
   "outputs": [],
   "source": []
  },
  {
   "cell_type": "markdown",
   "id": "f3d5ca4a-2498-4bd4-a7f1-2d982f4d0a2e",
   "metadata": {},
   "source": [
    "## Reflections"
   ]
  },
  {
   "cell_type": "markdown",
   "id": "a7e89b54-5fe9-40e7-b0b9-7890ba0a17cd",
   "metadata": {},
   "source": [
    "Looking back on the data from King County Texas and Washington, what did you observe? Do you find anything surprising or do you find things matching your expectations? Type your answer below."
   ]
  },
  {
   "cell_type": "markdown",
   "id": "2478bf03-0217-4c9b-a435-6ade12bc918f",
   "metadata": {},
   "source": [
    "TODO: Write answer here"
   ]
  },
  {
   "cell_type": "markdown",
   "id": "45d5caf3-5507-4118-bec2-d1518fa78be6",
   "metadata": {},
   "source": [
    "In order to do this sort of calculation for all UW counties, we would want to join the two dataframes (`food_df`, `county_df`) together. What feature would you want to join them together on? What complications will there be in doing so? Type your answer below"
   ]
  },
  {
   "cell_type": "markdown",
   "id": "448369ad-ca5f-4945-aeb7-2a6aed25f350",
   "metadata": {},
   "source": [
    "TODO: Write answer here"
   ]
  }
 ],
 "metadata": {
  "kernelspec": {
   "display_name": "R",
   "language": "R",
   "name": "ir"
  },
  "language_info": {
   "codemirror_mode": "r",
   "file_extension": ".r",
   "mimetype": "text/x-r-source",
   "name": "R",
   "pygments_lexer": "r",
   "version": "4.3.3"
  }
 },
 "nbformat": 4,
 "nbformat_minor": 5
}
