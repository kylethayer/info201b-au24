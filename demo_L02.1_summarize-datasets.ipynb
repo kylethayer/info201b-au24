{
 "cells": [
  {
   "cell_type": "markdown",
   "id": "d57ee758-5f36-472c-972e-f6332b85e568",
   "metadata": {},
   "source": [
    "# Lecture 2 Demo: Dataset summary info\n",
    "\n",
    "This demo will give us a place to see some summary info about datasets using functions."
   ]
  },
  {
   "cell_type": "markdown",
   "id": "1ba13977-e403-4967-951f-05f0db03e6f6",
   "metadata": {},
   "source": [
    "## Top 5 National Parks by visits (2020)"
   ]
  },
  {
   "cell_type": "code",
   "execution_count": 13,
   "id": "e79d0f6c-7cff-4248-a5f8-2296a6323622",
   "metadata": {},
   "outputs": [],
   "source": [
    "# Load a dataset of the top 5 national parks by visits\n",
    "np_top_5_df <- read.csv(\"https://raw.githubusercontent.com/melaniewalsh/Neat-Datasets/refs/heads/main/2020-National-Park-Visits-By-State-Top5.csv\")\n"
   ]
  },
  {
   "cell_type": "markdown",
   "id": "7921dca4-b618-4f97-8695-41de0b213bee",
   "metadata": {},
   "source": [
    "In the open programming cell below, view the dataset by just typing the name of the variable the dataset is saved in."
   ]
  },
  {
   "cell_type": "code",
   "execution_count": null,
   "id": "c9077664-2955-4513-bca7-3469c6ef81bb",
   "metadata": {},
   "outputs": [],
   "source": []
  },
  {
   "cell_type": "markdown",
   "id": "5c5292c8-37cc-474d-b9c5-8280d87ceffd",
   "metadata": {},
   "source": [
    "In the open programming cell below, view a summary of the dataset by using the `summary()` function on the dataset."
   ]
  },
  {
   "cell_type": "code",
   "execution_count": null,
   "id": "e8ab4ba5-7785-4b03-a84c-bceba67d718a",
   "metadata": {},
   "outputs": [],
   "source": []
  },
  {
   "cell_type": "markdown",
   "id": "7deee7a5-721f-47c3-9cd1-97c5b7dfa0be",
   "metadata": {},
   "source": [
    "## National Park Visits by State (2020)"
   ]
  },
  {
   "cell_type": "code",
   "execution_count": 14,
   "id": "7372d98c-a065-4beb-8040-ddd61628da45",
   "metadata": {},
   "outputs": [],
   "source": [
    "# Load a dataset of the top 5 national parks by visits\n",
    "np_by_state_df <- read.csv(\"https://raw.githubusercontent.com/melaniewalsh/Neat-Datasets/refs/heads/main/2020-National-Park-Visits-By-State.csv\")\n"
   ]
  },
  {
   "cell_type": "markdown",
   "id": "87ff46d1-59dc-4757-8611-9274aa170558",
   "metadata": {},
   "source": [
    "In the open programming cell below, view the dataset by just typing the name of the variable the dataset is saved in."
   ]
  },
  {
   "cell_type": "code",
   "execution_count": null,
   "id": "9a49a817-9d2a-4f30-a578-56a11c199a32",
   "metadata": {},
   "outputs": [],
   "source": []
  },
  {
   "cell_type": "markdown",
   "id": "ed0b97bf-aa20-42bf-9753-e8a182c861a1",
   "metadata": {},
   "source": [
    "In the open programming cell below, view a summary of the dataset by using the `summary()` function on the dataset."
   ]
  },
  {
   "cell_type": "code",
   "execution_count": null,
   "id": "5c0daaed-60fc-489c-bcda-cb06c33fa3f6",
   "metadata": {},
   "outputs": [],
   "source": []
  }
 ],
 "metadata": {
  "kernelspec": {
   "display_name": "R",
   "language": "R",
   "name": "ir"
  },
  "language_info": {
   "codemirror_mode": "r",
   "file_extension": ".r",
   "mimetype": "text/x-r-source",
   "name": "R",
   "pygments_lexer": "r",
   "version": "4.2.3"
  }
 },
 "nbformat": 4,
 "nbformat_minor": 5
}
