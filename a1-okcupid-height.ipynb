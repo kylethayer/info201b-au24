{
 "cells": [
  {
   "cell_type": "markdown",
   "id": "e1f4eb8c-212e-4130-af40-1a389869ae5e",
   "metadata": {},
   "source": [
    "# Assignment 1: OkCupid Height\n",
    "\n",
    " In this assignment you will be looking at heights as reported\n",
    " on the OkCupid dating site in 2010 and comparing it to the\n",
    " heights reported in a CDC survey of all Americans in 2010\n",
    "\n",
    " We have several sections of code already written for you, such\n",
    " as code to load the datasets, and then we will have questions\n",
    " for you to answer by exploring the data."
   ]
  },
  {
   "cell_type": "markdown",
   "id": "0eae7c4d-35cd-4ccb-ab78-70b4181affc3",
   "metadata": {},
   "source": [
    "## Load a code library to help work with datasets\n",
    "You may get a warning about objects being \"masked\", which you can ignore"
   ]
  },
  {
   "cell_type": "code",
   "execution_count": null,
   "id": "a2b4630d-a808-4d97-8488-fa2d4bcdec49",
   "metadata": {},
   "outputs": [],
   "source": [
    "library(dplyr)"
   ]
  },
  {
   "cell_type": "markdown",
   "id": "2c9d097a-2c3e-44ec-8d99-c1ce25e1794a",
   "metadata": {},
   "source": [
    "## Load the datasets\n",
    "We will load two basic datasets\n",
    "* OkCupid dataset originally comes from here: https://github.com/rudeboybert/JSE_OkCupid\n",
    "* CDC survey of people's heights originally comes from here:\n",
    "  * demographics: https://wwwn.cdc.gov/nchs/nhanes/search/datapage.aspx?Component=Demographics&Cycle=2009-2010\n",
    "  * examination data (body measurements): https://wwwn.cdc.gov/nchs/nhanes/search/datapage.aspx?Component=Examination&Cycle=2009-2010"
   ]
  },
  {
   "cell_type": "code",
   "execution_count": null,
   "id": "26c9b05b-c721-4d4a-9d15-edeac65b777c",
   "metadata": {},
   "outputs": [],
   "source": [
    "okcupid_df <- read.csv(\"https://raw.githubusercontent.com/kylethayer/Info-201-au-24-datasets/refs/heads/main/profiles_revised.csv\")\n",
    "us_height_df <- read.csv(\"https://github.com/kylethayer/Info-201-au-24-datasets/raw/refs/heads/main/us_height_2010.csv\")"
   ]
  },
  {
   "cell_type": "markdown",
   "id": "c05a9677-b352-45b7-a49b-f7b5fd619264",
   "metadata": {},
   "source": [
    "## Separate datsets by gender (and other relevant factors)\n",
    "This code makes new copies of the datsets for okcupid heights divided by gender and US heights divided by gender. These will saved in variables called `okcupid_women_df`, `okcupid_men_df`, `us_women_df`, and `us_men_df`.\n",
    "\n",
    "_Note: Gender is represented as a binary in these datasets even though\n",
    " a gender binary does not fit everyone in real life_"
   ]
  },
  {
   "cell_type": "code",
   "execution_count": null,
   "id": "44f71239-30b2-480b-86f1-e69d5b20fd45",
   "metadata": {},
   "outputs": [],
   "source": [
    "okcupid_women_df <- okcupid_df |> \n",
    "                    filter(sex == \"f\")\n",
    "\n",
    "okcupid_men_df <- okcupid_df |> \n",
    "                    filter(sex == \"m\")\n",
    "\n",
    "us_women_df <- us_height_df |> \n",
    "              filter(\n",
    "                RIDAGEYR >= 17, \n",
    "                RIAGENDR == 2\n",
    "              )\n",
    "\n",
    "us_men_df <- us_height_df |> \n",
    "              filter(\n",
    "                RIDAGEYR >= 17, \n",
    "                RIAGENDR == 1\n",
    "              )"
   ]
  },
  {
   "cell_type": "markdown",
   "id": "87b73966-8ad4-4885-999b-079eb0cafc97",
   "metadata": {},
   "source": [
    "## 1 Glimpse at the data\n",
    "Use the `glimpse()` function on both `us_women_df` and `okcupid_women_df` to look at the data in each dataset."
   ]
  },
  {
   "cell_type": "code",
   "execution_count": null,
   "id": "77af5406-5387-4322-bb99-b41a1f97514c",
   "metadata": {},
   "outputs": [],
   "source": [
    "# TODO: glimpse us_women_df here"
   ]
  },
  {
   "cell_type": "code",
   "execution_count": null,
   "id": "f39dc4a9-7607-4710-9c1c-14aa17c32e55",
   "metadata": {},
   "outputs": [],
   "source": [
    "# TODO: glimpse okcupid_women_df here"
   ]
  },
  {
   "cell_type": "markdown",
   "id": "aeef595a-6caf-4119-998c-78e93071f365",
   "metadata": {},
   "source": [
    "## 2 How is height saved?\n",
    "In the text box below write down:\n",
    "* What name each dataset uses to label the height information\n",
    "* What you notice about the height values you see in each dataset (and what this means)\n",
    "\n",
    "_Note: You may want to look at more information about how each dataset stores values:_\n",
    "* CDC Data:\n",
    "  * [Demographics Codebook](https://wwwn.cdc.gov/Nchs/Nhanes/2009-2010/DEMO_F.htm#Codebook)\n",
    "  * [Body Measurements Codebook](https://wwwn.cdc.gov/Nchs/Nhanes/2009-2010/BMX_F.htm#Codebook)\n",
    "* [OkCupid Codebook](https://github.com/rudeboybert/JSE_OkCupid/blob/master/okcupid_codebook_revised.txt)"
   ]
  },
  {
   "cell_type": "markdown",
   "id": "21176b80-80c3-4b8c-9192-ee9f93c9cd57",
   "metadata": {},
   "source": [
    "TODO: Type your answer here"
   ]
  },
  {
   "cell_type": "markdown",
   "id": "6c6449ff-e886-48e5-8cca-b1e08c94a821",
   "metadata": {},
   "source": [
    "## 3. Summarize women's heights\n",
    "Now use the `summary()` function on both the `us_women_df` and `okcupid_women_df` datasets so you can look overall information about the heights in each dataset"
   ]
  },
  {
   "cell_type": "code",
   "execution_count": null,
   "id": "00875f27-e166-4481-a78d-2818916f793f",
   "metadata": {},
   "outputs": [],
   "source": [
    "#TODO: summarize us_women_df here"
   ]
  },
  {
   "cell_type": "code",
   "execution_count": null,
   "id": "082ac282-bfed-4e74-a6b2-ff5ab15bfde0",
   "metadata": {},
   "outputs": [],
   "source": [
    "#TODO: summarize okcupid_women_df here"
   ]
  },
  {
   "cell_type": "markdown",
   "id": "5db722df-9865-41b9-9982-827a879aabc0",
   "metadata": {},
   "source": [
    "## 4. Compare women's heights\n",
    "Now looking at those summaries, compare the information about what a normal height is in each dataset (accounting for anything you need to to compare the values).\n",
    "\n",
    "Write your observations about overall differences between normal heights in the two datasets."
   ]
  },
  {
   "cell_type": "markdown",
   "id": "57f8a05b-3655-4369-9c58-06ccfc92df26",
   "metadata": {},
   "source": [
    "TODO: Type your answer here"
   ]
  },
  {
   "cell_type": "markdown",
   "id": "778f7670-4cb1-4dfa-8b7e-dd7fe039ab96",
   "metadata": {},
   "source": [
    "## 5. Summarize men's heights\n",
    "Now use the `summary()` function on both the `us_men_df` and `okcupid_men_df` datasets so you can look overall information about the heights in each dataset"
   ]
  },
  {
   "cell_type": "code",
   "execution_count": null,
   "id": "8b022a91-debe-4aed-99d4-fbdb986cd61c",
   "metadata": {},
   "outputs": [],
   "source": [
    "#TODO: summarize us_men_df here"
   ]
  },
  {
   "cell_type": "code",
   "execution_count": null,
   "id": "7a8cc7bc-d484-41eb-a3c8-11acbcca07f0",
   "metadata": {},
   "outputs": [],
   "source": [
    "#TODO: summarize okcupid_men_df here"
   ]
  },
  {
   "cell_type": "markdown",
   "id": "c2449fb7-2094-4919-ad2f-0027ff0ba55d",
   "metadata": {},
   "source": [
    "## 6. Compare men's heights\n",
    "Now looking at those summaries, compare the information about what a normal height is in each dataset (accounting for anything you need to to compare the values).\n",
    "\n",
    "Write your observations about overall differences between normal heights in the two datasets."
   ]
  },
  {
   "cell_type": "markdown",
   "id": "43a5f7df-58d7-49ec-ad3d-f2ba8a2ea3e8",
   "metadata": {},
   "source": [
    "TODO: Type your answer here"
   ]
  },
  {
   "cell_type": "markdown",
   "id": "12077347-f4da-427b-86c0-0d4127e38210",
   "metadata": {},
   "source": [
    "## 7. Brainstorm explanations of the differences you noticed\n",
    "Try to think of as many possible explanations for why the differences you found exist. Come up with at least 4 possible explanations (you can have variations of similar explanations if you are having trouble thinking of more).\n",
    "\n",
    "_Note: You can look at the start of [this blog post by OkCupid](https://theblog.okcupid.com/the-big-lies-people-tell-in-online-dating-a9e3990d6ae2\n",
    ") for one possible explanation_"
   ]
  },
  {
   "cell_type": "markdown",
   "id": "6759b07d-aba1-46f9-8bfc-9296c35538bc",
   "metadata": {},
   "source": [
    "TODO: Type your answer here"
   ]
  }
 ],
 "metadata": {
  "kernelspec": {
   "display_name": "R",
   "language": "R",
   "name": "ir"
  },
  "language_info": {
   "codemirror_mode": "r",
   "file_extension": ".r",
   "mimetype": "text/x-r-source",
   "name": "R",
   "pygments_lexer": "r",
   "version": "4.2.3"
  }
 },
 "nbformat": 4,
 "nbformat_minor": 5
}
