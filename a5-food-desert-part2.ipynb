{
 "cells": [
  {
   "cell_type": "markdown",
   "metadata": {},
   "source": [
    "# A5: Food Desert (Part 2)\n",
    "\n",
    "Before you begin, make sure you read the assignment description on canvas first!\n",
    "\n",
    "For each question/prompt, write the necessary code to calculate the answer.\n",
    "\n",
    "You are encouraged to create extra variables to help you solve these problems.\n",
    "\n",
    "When you save answers, make sure you save the values and not dataframes (unless\n",
    "we ask you to save dataframes)."
   ]
  },
  {
   "cell_type": "markdown",
   "metadata": {},
   "source": [
    "## Load libraries\n",
    "You don't need to modify this"
   ]
  },
  {
   "cell_type": "code",
   "execution_count": null,
   "metadata": {
    "vscode": {
     "languageId": "r"
    }
   },
   "outputs": [],
   "source": [
    "library(dplyr)\n",
    "library(stringr)"
   ]
  },
  {
   "cell_type": "markdown",
   "metadata": {},
   "source": [
    "## Loads in your datasets\n",
    "Do not change the address for the dataset file."
   ]
  },
  {
   "cell_type": "code",
   "execution_count": null,
   "metadata": {
    "vscode": {
     "languageId": "r"
    }
   },
   "outputs": [],
   "source": [
    "food_df <- read.csv(\"food_access.csv\") #DO NOT CHANGE!\n",
    "county_df <- read.csv(\"CountyCodes.csv\") #DO NOT CHANGE!"
   ]
  },
  {
   "cell_type": "markdown",
   "metadata": {
    "vscode": {
     "languageId": "r"
    }
   },
   "source": [
    "Make a dataframe out of US State names/abbreviations that R has included (we provide this code for you)."
   ]
  },
  {
   "cell_type": "code",
   "execution_count": null,
   "metadata": {
    "vscode": {
     "languageId": "r"
    }
   },
   "outputs": [],
   "source": [
    "state_name_abv_df <- data.frame(State.Code = state.abb, State.Name = state.name)"
   ]
  },
  {
   "cell_type": "markdown",
   "metadata": {
    "vscode": {
     "languageId": "r"
    }
   },
   "source": [
    "## Examine dataframes\n",
    "We will need to join the dataframes together by the state and county names. To make sure we know what we are doing, use the head() function to view the first few rows of each of the three datafarmes.\n",
    "\n",
    "Look at the head of `food_df`"
   ]
  },
  {
   "cell_type": "code",
   "execution_count": null,
   "metadata": {
    "vscode": {
     "languageId": "r"
    }
   },
   "outputs": [],
   "source": [
    "# TODO: Code here"
   ]
  },
  {
   "cell_type": "markdown",
   "metadata": {},
   "source": [
    "Look at the head of `county_df`"
   ]
  },
  {
   "cell_type": "code",
   "execution_count": null,
   "metadata": {},
   "outputs": [],
   "source": [
    "# TODO: Code here"
   ]
  },
  {
   "cell_type": "markdown",
   "metadata": {},
   "source": [
    "Look at the head of `state_name_abv_df`"
   ]
  },
  {
   "cell_type": "code",
   "execution_count": null,
   "metadata": {
    "vscode": {
     "languageId": "r"
    }
   },
   "outputs": [],
   "source": [
    "# TODO: Code here"
   ]
  },
  {
   "cell_type": "markdown",
   "metadata": {},
   "source": [
    "Which column(s) of `food_df` match which column(s) of `county_df`?"
   ]
  },
  {
   "cell_type": "markdown",
   "metadata": {},
   "source": [
    "TODO: Write your answer here"
   ]
  },
  {
   "cell_type": "markdown",
   "metadata": {},
   "source": [
    "Which column(s) of `food_df` match which column(s) of `state_name_abv_df`?"
   ]
  },
  {
   "cell_type": "markdown",
   "metadata": {},
   "source": [
    "TODO: Write your answer here"
   ]
  },
  {
   "cell_type": "markdown",
   "metadata": {},
   "source": [
    "Which column(s) of `county_df` match which column(s) of `state_name_abv_df`?"
   ]
  },
  {
   "cell_type": "markdown",
   "metadata": {},
   "source": [
    "TODO: Write your answer here"
   ]
  },
  {
   "cell_type": "markdown",
   "metadata": {},
   "source": [
    "## Data Joining\n",
    "\n",
    "In our overall numbers above, we looked at how many people lived at least 1 or 10 miles from a grocery store. But in the US Department of Agriculture's definition of a food desert, whether we should use 1 or 10 miles depends on if people live in a urban or rural county.\n",
    "\n",
    "Currently the rural/urban information and the distance from food information are in two different datasets, that we'll need to join together.\n",
    "\n",
    "Unfortunately, the two datasets store the county name in fields that are named differently, and worse, the State information is saved two different ways (abbreviation or whole name).\n",
    "\n",
    "So you'll need to join three datasets together to get everything lined up in one combined dataframe."
   ]
  },
  {
   "cell_type": "markdown",
   "metadata": {},
   "source": [
    "Start with food_df, and first join it with state_name_abv_df so that you have the distance info and the state abbreviations. Then join it with the county_df so that you also get the urban/rural values. Save the final dataframe as `combined_df`\n",
    "\n",
    "Some hints: There are several ways to do this, but some things you can try:\n",
    "- use left_join(), and then see if the info in the new columns is NULL (didn't match) or not.\n",
    "- make a new column (the same as an old one, but with a different name), using mutate.\n",
    "- when you join, if both dataframes have the same column name, then use join_by(col_name), and if they have different column names, then use join_by(col_name1 = col_name2)<br>(where you put in the actual column names instead of my fake ones)\n",
    "- You can also use mutate to make new columns that have the state and county combined\n"
   ]
  },
  {
   "cell_type": "code",
   "execution_count": null,
   "metadata": {
    "vscode": {
     "languageId": "r"
    }
   },
   "outputs": [],
   "source": [
    "# TODO: Code here"
   ]
  },
  {
   "cell_type": "markdown",
   "metadata": {},
   "source": [
    "## Combined Analysis\n",
    "Now that we have urban/rural information along with food access information, we will do some analysis on the combined information."
   ]
  },
  {
   "cell_type": "markdown",
   "metadata": {},
   "source": [
    "How many total people live in food deserts?\n",
    "\n",
    "First, whether someone is in a food dessert or not depends on whether their county, is rural or urban. So create separate dataframes for those counties: `rural_df` and `urban_df`\n"
   ]
  },
  {
   "cell_type": "code",
   "execution_count": null,
   "metadata": {
    "vscode": {
     "languageId": "r"
    }
   },
   "outputs": [],
   "source": [
    "# TODO: Code here"
   ]
  },
  {
   "cell_type": "markdown",
   "metadata": {},
   "source": [
    "Then count how many people in each of those sets of counties live in food desserts.<br>Store the total number of people who live in food deserts in the variable named `total_fd_pop`."
   ]
  },
  {
   "cell_type": "code",
   "execution_count": null,
   "metadata": {},
   "outputs": [],
   "source": [
    "# TODO: Code here"
   ]
  },
  {
   "cell_type": "markdown",
   "metadata": {},
   "source": [
    "Display the value stored in total_fd_pop"
   ]
  },
  {
   "cell_type": "code",
   "execution_count": null,
   "metadata": {},
   "outputs": [],
   "source": [
    "# TODO: Code here"
   ]
  },
  {
   "cell_type": "markdown",
   "metadata": {},
   "source": [
    "What percent of the US total population live in food deserts? Round your answer to the nearest whole number and display it"
   ]
  },
  {
   "cell_type": "code",
   "execution_count": null,
   "metadata": {
    "vscode": {
     "languageId": "r"
    }
   },
   "outputs": [],
   "source": [
    "# TODO: Code here"
   ]
  },
  {
   "cell_type": "markdown",
   "metadata": {},
   "source": [
    "What percent of people in rural counties live in food desserts?  Round your answer to the nearest whole number and display it"
   ]
  },
  {
   "cell_type": "code",
   "execution_count": null,
   "metadata": {
    "vscode": {
     "languageId": "r"
    }
   },
   "outputs": [],
   "source": [
    "# TODO: Code here"
   ]
  },
  {
   "cell_type": "markdown",
   "metadata": {},
   "source": [
    "What percentage of people in urban counties live in food desserts? Round your answer to the nearest whole number and display it"
   ]
  },
  {
   "cell_type": "code",
   "execution_count": null,
   "metadata": {
    "vscode": {
     "languageId": "r"
    }
   },
   "outputs": [],
   "source": [
    "# TODO: Code here"
   ]
  },
  {
   "cell_type": "markdown",
   "metadata": {},
   "source": [
    "Add a column to rural_df called `fd_percent` with what percentage of people who live in that county that are at least 10 miles from a grocery store. DO NOT ROUND"
   ]
  },
  {
   "cell_type": "code",
   "execution_count": null,
   "metadata": {
    "vscode": {
     "languageId": "r"
    }
   },
   "outputs": [],
   "source": [
    "# TODO: Code here"
   ]
  },
  {
   "cell_type": "markdown",
   "metadata": {},
   "source": [
    "Make a new dataframe with all RURAL counties that have a MAX fd_percent value. Select only the County, State Name, Population, and fd_percent columns. Save the dataframe as `rural_county_max_fd_df`"
   ]
  },
  {
   "cell_type": "code",
   "execution_count": null,
   "metadata": {
    "vscode": {
     "languageId": "r"
    }
   },
   "outputs": [],
   "source": [
    "# TODO: Code here"
   ]
  },
  {
   "cell_type": "markdown",
   "metadata": {},
   "source": [
    "Display the rural_county_max_fd_df"
   ]
  },
  {
   "cell_type": "code",
   "execution_count": null,
   "metadata": {},
   "outputs": [],
   "source": [
    "# TODO: Code here"
   ]
  },
  {
   "cell_type": "markdown",
   "metadata": {},
   "source": [
    "Make a new dataframe with all RURAL counties that have a MIN fd_percent value.<br> Then Select only the County, State Name, Population, and fd_percent columns.  Save the dataframe as `rural_county_min_fd_df`"
   ]
  },
  {
   "cell_type": "code",
   "execution_count": null,
   "metadata": {
    "vscode": {
     "languageId": "r"
    }
   },
   "outputs": [],
   "source": [
    "# TODO: Code here"
   ]
  },
  {
   "cell_type": "markdown",
   "metadata": {},
   "source": [
    "Display the rural_county_min_fd_df"
   ]
  },
  {
   "cell_type": "code",
   "execution_count": null,
   "metadata": {},
   "outputs": [],
   "source": [
    "# TODO: Code here"
   ]
  },
  {
   "cell_type": "markdown",
   "metadata": {},
   "source": [
    "Examine those two dataframes. What did you observe? Do you find anything surprising or do you find things matching your expectations? (Feel free to look up these counties online)"
   ]
  },
  {
   "cell_type": "markdown",
   "metadata": {
    "vscode": {
     "languageId": "r"
    }
   },
   "source": [
    "TODO: Write observations here"
   ]
  },
  {
   "cell_type": "markdown",
   "metadata": {},
   "source": [
    "Add a column to urban_df called `fd_percent` with what percentage of people who live in that county that are at least 1 mile from a grocery store. DO NOT ROUND"
   ]
  },
  {
   "cell_type": "code",
   "execution_count": null,
   "metadata": {
    "vscode": {
     "languageId": "r"
    }
   },
   "outputs": [],
   "source": [
    "# TODO: Code here"
   ]
  },
  {
   "cell_type": "markdown",
   "metadata": {},
   "source": [
    "Make a new dataframe with all URBAN counties that have a MAX fd_percent value and select only the County, State Name, Population, and fd_percent columns. Save the dataframe as `urban_county_max_fd_df`"
   ]
  },
  {
   "cell_type": "code",
   "execution_count": null,
   "metadata": {
    "vscode": {
     "languageId": "r"
    }
   },
   "outputs": [],
   "source": [
    "# TODO: Code here"
   ]
  },
  {
   "cell_type": "markdown",
   "metadata": {},
   "source": [
    "Display the urban_county_max_fd_df dataframe"
   ]
  },
  {
   "cell_type": "code",
   "execution_count": null,
   "metadata": {},
   "outputs": [],
   "source": [
    "# TODO: Code here"
   ]
  },
  {
   "cell_type": "markdown",
   "metadata": {},
   "source": [
    "Make a new dataframe with all URBAN counties that have a MIN fd_percent value and select only the County, State Name, Population, and fd_percent columns. Save the dataframe as `urban_county_min_fd_df`"
   ]
  },
  {
   "cell_type": "code",
   "execution_count": null,
   "metadata": {
    "vscode": {
     "languageId": "r"
    }
   },
   "outputs": [],
   "source": [
    "# TODO: Code here"
   ]
  },
  {
   "cell_type": "markdown",
   "metadata": {},
   "source": [
    "Display the urban_county_min_fd_df dataframe"
   ]
  },
  {
   "cell_type": "code",
   "execution_count": null,
   "metadata": {},
   "outputs": [],
   "source": [
    "# TODO: Code here"
   ]
  },
  {
   "cell_type": "markdown",
   "metadata": {},
   "source": [
    "Examine those two dataframes. What did you observe? Do you find anything surprising or do you find things matching your expectations? (Feel free to look up these counties online)"
   ]
  },
  {
   "cell_type": "markdown",
   "metadata": {
    "vscode": {
     "languageId": "r"
    }
   },
   "source": [
    "TODO: Write observations here"
   ]
  }
 ],
 "metadata": {
  "kernelspec": {
   "display_name": "R",
   "language": "R",
   "name": "ir"
  },
  "language_info": {
   "codemirror_mode": "r",
   "file_extension": ".r",
   "mimetype": "text/x-r-source",
   "name": "R",
   "pygments_lexer": "r",
   "version": "4.3.3"
  }
 },
 "nbformat": 4,
 "nbformat_minor": 4
}
